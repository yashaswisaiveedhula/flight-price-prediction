{
  "cells": [
    {
      "cell_type": "markdown",
      "source": [
        "#### kanamarlapudi satvika\n",
        "\n",
        "#### 20BCD7034\n",
        "\n",
        "#### SMART BRIDGE EXTERNSHIP - APPLIED DATA SCIENCE\n",
        "\n",
        "#### ASSIGNMENT 1"
      ],
      "metadata": {
        "id": "e3Jir0yTjWcD"
      },
      "id": "e3Jir0yTjWcD"
    },
    {
      "cell_type": "markdown",
      "source": [
        "1. Assign your Name to variable name and Age to variable age. Make a Python program that prints your name and age"
      ],
      "metadata": {
        "id": "p89DWxz6jd2f"
      },
      "id": "p89DWxz6jd2f"
    },
    {
      "cell_type": "code",
      "execution_count": null,
      "id": "c3c10922",
      "metadata": {
        "id": "c3c10922",
        "outputId": "d561ce52-e5e3-4c92-c9fc-2fe69e143711",
        "colab": {
          "base_uri": "https://localhost:8080/"
        }
      },
      "outputs": [
        {
          "output_type": "stream",
          "name": "stdout",
          "text": [
            "Name: k.satvika\n",
            "Age: 20\n"
          ]
        }
      ],
      "source": [
        "name = \"k.satvika\"\n",
        "age = 20\n",
        "print(\"Name:\", name)\n",
        "print(\"Age:\", age)"
      ]
    },
    {
      "cell_type": "markdown",
      "source": [
        "2. X=\"Datascience is used to extract meaningful insights.\"\n",
        "\n",
        "    Split the string"
      ],
      "metadata": {
        "id": "xyq-eqePkakh"
      },
      "id": "xyq-eqePkakh"
    },
    {
      "cell_type": "code",
      "execution_count": null,
      "id": "35d6e981",
      "metadata": {
        "id": "35d6e981",
        "outputId": "0bdfb876-345e-4700-f48f-2cbef1965508",
        "colab": {
          "base_uri": "https://localhost:8080/"
        }
      },
      "outputs": [
        {
          "output_type": "stream",
          "name": "stdout",
          "text": [
            "['Datascience', 'is', 'used', 'to', 'extract', 'meaningful', 'insights.']\n"
          ]
        }
      ],
      "source": [
        "x = \"Datascience is used to extract meaningful insights.\"\n",
        "print(x.split(\" \"))"
      ]
    },
    {
      "cell_type": "markdown",
      "source": [
        "3. Make a function that gives multiplication of two numbers"
      ],
      "metadata": {
        "id": "BFEIN6F6kexF"
      },
      "id": "BFEIN6F6kexF"
    },
    {
      "cell_type": "code",
      "execution_count": null,
      "id": "09a13be3",
      "metadata": {
        "id": "09a13be3",
        "outputId": "1ef58993-d2ef-482b-abf6-d5d4a03d0f95",
        "colab": {
          "base_uri": "https://localhost:8080/"
        }
      },
      "outputs": [
        {
          "output_type": "execute_result",
          "data": {
            "text/plain": [
              "30"
            ]
          },
          "metadata": {},
          "execution_count": 4
        }
      ],
      "source": [
        "def multiplication(a,b):\n",
        "    return a*b\n",
        "multiplication(5,6)"
      ]
    },
    {
      "cell_type": "markdown",
      "source": [
        "4. Create a Dictionary of 5 States with their capitals. also print the keys and values."
      ],
      "metadata": {
        "id": "ASOI08qvkvlU"
      },
      "id": "ASOI08qvkvlU"
    },
    {
      "cell_type": "code",
      "execution_count": null,
      "id": "14ab9a05",
      "metadata": {
        "id": "14ab9a05",
        "outputId": "0e034953-8818-4af4-fd7c-1ac2fd672bf2",
        "colab": {
          "base_uri": "https://localhost:8080/"
        }
      },
      "outputs": [
        {
          "output_type": "stream",
          "name": "stdout",
          "text": [
            "Tamilnadu\n",
            "Telangana\n",
            "Goa\n",
            "Karnataka\n",
            "Andhra\n"
          ]
        }
      ],
      "source": [
        "sc = {\"Tamilnadu\": \"Chennai\", \"Telangana\":\"Hyderabad\", \"Goa\":\"Panaji\", \"Karnataka\":\"Banglore\", \"Andhra\":\"Amaravathi\"}\n",
        "for i in sc:\n",
        "    print(i)"
      ]
    },
    {
      "cell_type": "code",
      "execution_count": null,
      "id": "bb3c3d76",
      "metadata": {
        "id": "bb3c3d76",
        "outputId": "f54a09ee-3033-46aa-b3f5-1cda16921955",
        "colab": {
          "base_uri": "https://localhost:8080/"
        }
      },
      "outputs": [
        {
          "output_type": "stream",
          "name": "stdout",
          "text": [
            "Chennai\n",
            "Hyderabad\n",
            "Panaji\n",
            "Banglore\n",
            "Amaravathi\n"
          ]
        }
      ],
      "source": [
        "for i in sc.values():\n",
        "    print(i)"
      ]
    },
    {
      "cell_type": "markdown",
      "source": [
        "5. Create a list of 1000 numbers using range function."
      ],
      "metadata": {
        "id": "VwcDeltKk6yQ"
      },
      "id": "VwcDeltKk6yQ"
    },
    {
      "cell_type": "code",
      "execution_count": null,
      "id": "7cac68b2",
      "metadata": {
        "id": "7cac68b2",
        "outputId": "a9375462-2112-473f-d20e-01c5768b8d32",
        "colab": {
          "base_uri": "https://localhost:8080/"
        }
      },
      "outputs": [
        {
          "output_type": "stream",
          "name": "stdout",
          "text": [
            "[1, 2, 3, 4, 5, 6, 7, 8, 9, 10, 11, 12, 13, 14, 15, 16, 17, 18, 19, 20, 21, 22, 23, 24, 25, 26, 27, 28, 29, 30, 31, 32, 33, 34, 35, 36, 37, 38, 39, 40, 41, 42, 43, 44, 45, 46, 47, 48, 49, 50, 51, 52, 53, 54, 55, 56, 57, 58, 59, 60, 61, 62, 63, 64, 65, 66, 67, 68, 69, 70, 71, 72, 73, 74, 75, 76, 77, 78, 79, 80, 81, 82, 83, 84, 85, 86, 87, 88, 89, 90, 91, 92, 93, 94, 95, 96, 97, 98, 99, 100, 101, 102, 103, 104, 105, 106, 107, 108, 109, 110, 111, 112, 113, 114, 115, 116, 117, 118, 119, 120, 121, 122, 123, 124, 125, 126, 127, 128, 129, 130, 131, 132, 133, 134, 135, 136, 137, 138, 139, 140, 141, 142, 143, 144, 145, 146, 147, 148, 149, 150, 151, 152, 153, 154, 155, 156, 157, 158, 159, 160, 161, 162, 163, 164, 165, 166, 167, 168, 169, 170, 171, 172, 173, 174, 175, 176, 177, 178, 179, 180, 181, 182, 183, 184, 185, 186, 187, 188, 189, 190, 191, 192, 193, 194, 195, 196, 197, 198, 199, 200, 201, 202, 203, 204, 205, 206, 207, 208, 209, 210, 211, 212, 213, 214, 215, 216, 217, 218, 219, 220, 221, 222, 223, 224, 225, 226, 227, 228, 229, 230, 231, 232, 233, 234, 235, 236, 237, 238, 239, 240, 241, 242, 243, 244, 245, 246, 247, 248, 249, 250, 251, 252, 253, 254, 255, 256, 257, 258, 259, 260, 261, 262, 263, 264, 265, 266, 267, 268, 269, 270, 271, 272, 273, 274, 275, 276, 277, 278, 279, 280, 281, 282, 283, 284, 285, 286, 287, 288, 289, 290, 291, 292, 293, 294, 295, 296, 297, 298, 299, 300, 301, 302, 303, 304, 305, 306, 307, 308, 309, 310, 311, 312, 313, 314, 315, 316, 317, 318, 319, 320, 321, 322, 323, 324, 325, 326, 327, 328, 329, 330, 331, 332, 333, 334, 335, 336, 337, 338, 339, 340, 341, 342, 343, 344, 345, 346, 347, 348, 349, 350, 351, 352, 353, 354, 355, 356, 357, 358, 359, 360, 361, 362, 363, 364, 365, 366, 367, 368, 369, 370, 371, 372, 373, 374, 375, 376, 377, 378, 379, 380, 381, 382, 383, 384, 385, 386, 387, 388, 389, 390, 391, 392, 393, 394, 395, 396, 397, 398, 399, 400, 401, 402, 403, 404, 405, 406, 407, 408, 409, 410, 411, 412, 413, 414, 415, 416, 417, 418, 419, 420, 421, 422, 423, 424, 425, 426, 427, 428, 429, 430, 431, 432, 433, 434, 435, 436, 437, 438, 439, 440, 441, 442, 443, 444, 445, 446, 447, 448, 449, 450, 451, 452, 453, 454, 455, 456, 457, 458, 459, 460, 461, 462, 463, 464, 465, 466, 467, 468, 469, 470, 471, 472, 473, 474, 475, 476, 477, 478, 479, 480, 481, 482, 483, 484, 485, 486, 487, 488, 489, 490, 491, 492, 493, 494, 495, 496, 497, 498, 499, 500, 501, 502, 503, 504, 505, 506, 507, 508, 509, 510, 511, 512, 513, 514, 515, 516, 517, 518, 519, 520, 521, 522, 523, 524, 525, 526, 527, 528, 529, 530, 531, 532, 533, 534, 535, 536, 537, 538, 539, 540, 541, 542, 543, 544, 545, 546, 547, 548, 549, 550, 551, 552, 553, 554, 555, 556, 557, 558, 559, 560, 561, 562, 563, 564, 565, 566, 567, 568, 569, 570, 571, 572, 573, 574, 575, 576, 577, 578, 579, 580, 581, 582, 583, 584, 585, 586, 587, 588, 589, 590, 591, 592, 593, 594, 595, 596, 597, 598, 599, 600, 601, 602, 603, 604, 605, 606, 607, 608, 609, 610, 611, 612, 613, 614, 615, 616, 617, 618, 619, 620, 621, 622, 623, 624, 625, 626, 627, 628, 629, 630, 631, 632, 633, 634, 635, 636, 637, 638, 639, 640, 641, 642, 643, 644, 645, 646, 647, 648, 649, 650, 651, 652, 653, 654, 655, 656, 657, 658, 659, 660, 661, 662, 663, 664, 665, 666, 667, 668, 669, 670, 671, 672, 673, 674, 675, 676, 677, 678, 679, 680, 681, 682, 683, 684, 685, 686, 687, 688, 689, 690, 691, 692, 693, 694, 695, 696, 697, 698, 699, 700, 701, 702, 703, 704, 705, 706, 707, 708, 709, 710, 711, 712, 713, 714, 715, 716, 717, 718, 719, 720, 721, 722, 723, 724, 725, 726, 727, 728, 729, 730, 731, 732, 733, 734, 735, 736, 737, 738, 739, 740, 741, 742, 743, 744, 745, 746, 747, 748, 749, 750, 751, 752, 753, 754, 755, 756, 757, 758, 759, 760, 761, 762, 763, 764, 765, 766, 767, 768, 769, 770, 771, 772, 773, 774, 775, 776, 777, 778, 779, 780, 781, 782, 783, 784, 785, 786, 787, 788, 789, 790, 791, 792, 793, 794, 795, 796, 797, 798, 799, 800, 801, 802, 803, 804, 805, 806, 807, 808, 809, 810, 811, 812, 813, 814, 815, 816, 817, 818, 819, 820, 821, 822, 823, 824, 825, 826, 827, 828, 829, 830, 831, 832, 833, 834, 835, 836, 837, 838, 839, 840, 841, 842, 843, 844, 845, 846, 847, 848, 849, 850, 851, 852, 853, 854, 855, 856, 857, 858, 859, 860, 861, 862, 863, 864, 865, 866, 867, 868, 869, 870, 871, 872, 873, 874, 875, 876, 877, 878, 879, 880, 881, 882, 883, 884, 885, 886, 887, 888, 889, 890, 891, 892, 893, 894, 895, 896, 897, 898, 899, 900, 901, 902, 903, 904, 905, 906, 907, 908, 909, 910, 911, 912, 913, 914, 915, 916, 917, 918, 919, 920, 921, 922, 923, 924, 925, 926, 927, 928, 929, 930, 931, 932, 933, 934, 935, 936, 937, 938, 939, 940, 941, 942, 943, 944, 945, 946, 947, 948, 949, 950, 951, 952, 953, 954, 955, 956, 957, 958, 959, 960, 961, 962, 963, 964, 965, 966, 967, 968, 969, 970, 971, 972, 973, 974, 975, 976, 977, 978, 979, 980, 981, 982, 983, 984, 985, 986, 987, 988, 989, 990, 991, 992, 993, 994, 995, 996, 997, 998, 999, 1000]\n"
          ]
        }
      ],
      "source": [
        "numbers = list(range(1,1001))\n",
        "print(numbers)"
      ]
    },
    {
      "cell_type": "markdown",
      "source": [
        "6. Create an identity matrix of dimension 4 by 4 7. Create a 3x3 matrix with values ranging from 1 to 9"
      ],
      "metadata": {
        "id": "ky3xAsU1lC7Z"
      },
      "id": "ky3xAsU1lC7Z"
    },
    {
      "cell_type": "code",
      "execution_count": null,
      "id": "fd9a892b",
      "metadata": {
        "id": "fd9a892b",
        "outputId": "adc48e52-41e4-4408-9489-8f775ee1e1cc",
        "colab": {
          "base_uri": "https://localhost:8080/"
        }
      },
      "outputs": [
        {
          "output_type": "execute_result",
          "data": {
            "text/plain": [
              "array([[1., 0., 0., 0.],\n",
              "       [0., 1., 0., 0.],\n",
              "       [0., 0., 1., 0.],\n",
              "       [0., 0., 0., 1.]])"
            ]
          },
          "metadata": {},
          "execution_count": 8
        }
      ],
      "source": [
        "import numpy as np\n",
        "x = np.eye(4)\n",
        "x"
      ]
    },
    {
      "cell_type": "markdown",
      "source": [
        "7. Create a 3x3 matrix with values ranging from 1 to 9"
      ],
      "metadata": {
        "id": "evYyPdcSlGYG"
      },
      "id": "evYyPdcSlGYG"
    },
    {
      "cell_type": "code",
      "execution_count": null,
      "id": "60692b35",
      "metadata": {
        "id": "60692b35"
      },
      "outputs": [],
      "source": [
        "#@title Default title text\n",
        "x = np.array(range(1,10))\n",
        "x= x.reshape(3,3)"
      ]
    },
    {
      "cell_type": "markdown",
      "source": [
        "8. Create 2 similar dimensional array and perform sum on them."
      ],
      "metadata": {
        "id": "AWyPDTitln6j"
      },
      "id": "AWyPDTitln6j"
    },
    {
      "cell_type": "code",
      "source": [
        "y = np.array(range(11,20))\n",
        "y = y.reshape(3,3)\n",
        "x+y"
      ],
      "metadata": {
        "colab": {
          "base_uri": "https://localhost:8080/"
        },
        "id": "SU8cPKb7R730",
        "outputId": "4cb8c453-a2c2-4b45-ffca-ef2d21661d9f"
      },
      "id": "SU8cPKb7R730",
      "execution_count": null,
      "outputs": [
        {
          "output_type": "execute_result",
          "data": {
            "text/plain": [
              "array([[12, 14, 16],\n",
              "       [18, 20, 22],\n",
              "       [24, 26, 28]])"
            ]
          },
          "metadata": {},
          "execution_count": 19
        }
      ]
    },
    {
      "cell_type": "markdown",
      "source": [
        "9. Generate the series of dates from 1st Feb, 2023 to 1st March, 2023 (both inclusive)"
      ],
      "metadata": {
        "id": "VH7hDcIOlQAg"
      },
      "id": "VH7hDcIOlQAg"
    },
    {
      "cell_type": "code",
      "source": [
        "datetime = pd.date_range(\"2023-02-1\",\"2023-03-1\", freq='D')\n",
        "print(datetime.strftime(\"%Y-%m-%d\"))"
      ],
      "metadata": {
        "colab": {
          "base_uri": "https://localhost:8080/"
        },
        "id": "4qALZCGXSDrs",
        "outputId": "13393f9d-e4e5-4cce-f171-93f39d11a6a4"
      },
      "id": "4qALZCGXSDrs",
      "execution_count": null,
      "outputs": [
        {
          "output_type": "stream",
          "name": "stdout",
          "text": [
            "Index(['2023-02-01', '2023-02-02', '2023-02-03', '2023-02-04', '2023-02-05',\n",
            "       '2023-02-06', '2023-02-07', '2023-02-08', '2023-02-09', '2023-02-10',\n",
            "       '2023-02-11', '2023-02-12', '2023-02-13', '2023-02-14', '2023-02-15',\n",
            "       '2023-02-16', '2023-02-17', '2023-02-18', '2023-02-19', '2023-02-20',\n",
            "       '2023-02-21', '2023-02-22', '2023-02-23', '2023-02-24', '2023-02-25',\n",
            "       '2023-02-26', '2023-02-27', '2023-02-28', '2023-03-01'],\n",
            "      dtype='object')\n"
          ]
        }
      ]
    },
    {
      "cell_type": "markdown",
      "source": [
        "10. Given a dictionary, convert it into corresponding dataframe and display it\n",
        "\n",
        "  dictionary = [\"Brand\": [\"Maruti', 'Renault', 'Hyndai'], 'Sales: [250, 200, 240]}    "
      ],
      "metadata": {
        "id": "J7D1DrhclR7O"
      },
      "id": "J7D1DrhclR7O"
    },
    {
      "cell_type": "code",
      "source": [
        "import pandas as pd\n",
        "dict = {\"Brand\":['Maruti', 'Renault', 'Hyndai'], \"Sales\":[250,200,240]}\n",
        "df = pd.DataFrame.from_dict(dict)"
      ],
      "metadata": {
        "id": "eqvUFg41SIky"
      },
      "id": "eqvUFg41SIky",
      "execution_count": null,
      "outputs": []
    },
    {
      "cell_type": "code",
      "execution_count": null,
      "id": "64eb0ed7",
      "metadata": {
        "id": "64eb0ed7",
        "outputId": "b932ff8f-74e3-4e5d-e1b4-a1e888ae38aa",
        "colab": {
          "base_uri": "https://localhost:8080/",
          "height": 143
        }
      },
      "outputs": [
        {
          "output_type": "execute_result",
          "data": {
            "text/plain": [
              "     Brand  Sales\n",
              "0   Maruti    250\n",
              "1  Renault    200\n",
              "2   Hyndai    240"
            ],
            "text/html": [
              "\n",
              "  <div id=\"df-1e010fd5-9e98-48a6-ac2f-4475403f6543\">\n",
              "    <div class=\"colab-df-container\">\n",
              "      <div>\n",
              "<style scoped>\n",
              "    .dataframe tbody tr th:only-of-type {\n",
              "        vertical-align: middle;\n",
              "    }\n",
              "\n",
              "    .dataframe tbody tr th {\n",
              "        vertical-align: top;\n",
              "    }\n",
              "\n",
              "    .dataframe thead th {\n",
              "        text-align: right;\n",
              "    }\n",
              "</style>\n",
              "<table border=\"1\" class=\"dataframe\">\n",
              "  <thead>\n",
              "    <tr style=\"text-align: right;\">\n",
              "      <th></th>\n",
              "      <th>Brand</th>\n",
              "      <th>Sales</th>\n",
              "    </tr>\n",
              "  </thead>\n",
              "  <tbody>\n",
              "    <tr>\n",
              "      <th>0</th>\n",
              "      <td>Maruti</td>\n",
              "      <td>250</td>\n",
              "    </tr>\n",
              "    <tr>\n",
              "      <th>1</th>\n",
              "      <td>Renault</td>\n",
              "      <td>200</td>\n",
              "    </tr>\n",
              "    <tr>\n",
              "      <th>2</th>\n",
              "      <td>Hyndai</td>\n",
              "      <td>240</td>\n",
              "    </tr>\n",
              "  </tbody>\n",
              "</table>\n",
              "</div>\n",
              "      <button class=\"colab-df-convert\" onclick=\"convertToInteractive('df-1e010fd5-9e98-48a6-ac2f-4475403f6543')\"\n",
              "              title=\"Convert this dataframe to an interactive table.\"\n",
              "              style=\"display:none;\">\n",
              "        \n",
              "  <svg xmlns=\"http://www.w3.org/2000/svg\" height=\"24px\"viewBox=\"0 0 24 24\"\n",
              "       width=\"24px\">\n",
              "    <path d=\"M0 0h24v24H0V0z\" fill=\"none\"/>\n",
              "    <path d=\"M18.56 5.44l.94 2.06.94-2.06 2.06-.94-2.06-.94-.94-2.06-.94 2.06-2.06.94zm-11 1L8.5 8.5l.94-2.06 2.06-.94-2.06-.94L8.5 2.5l-.94 2.06-2.06.94zm10 10l.94 2.06.94-2.06 2.06-.94-2.06-.94-.94-2.06-.94 2.06-2.06.94z\"/><path d=\"M17.41 7.96l-1.37-1.37c-.4-.4-.92-.59-1.43-.59-.52 0-1.04.2-1.43.59L10.3 9.45l-7.72 7.72c-.78.78-.78 2.05 0 2.83L4 21.41c.39.39.9.59 1.41.59.51 0 1.02-.2 1.41-.59l7.78-7.78 2.81-2.81c.8-.78.8-2.07 0-2.86zM5.41 20L4 18.59l7.72-7.72 1.47 1.35L5.41 20z\"/>\n",
              "  </svg>\n",
              "      </button>\n",
              "      \n",
              "  <style>\n",
              "    .colab-df-container {\n",
              "      display:flex;\n",
              "      flex-wrap:wrap;\n",
              "      gap: 12px;\n",
              "    }\n",
              "\n",
              "    .colab-df-convert {\n",
              "      background-color: #E8F0FE;\n",
              "      border: none;\n",
              "      border-radius: 50%;\n",
              "      cursor: pointer;\n",
              "      display: none;\n",
              "      fill: #1967D2;\n",
              "      height: 32px;\n",
              "      padding: 0 0 0 0;\n",
              "      width: 32px;\n",
              "    }\n",
              "\n",
              "    .colab-df-convert:hover {\n",
              "      background-color: #E2EBFA;\n",
              "      box-shadow: 0px 1px 2px rgba(60, 64, 67, 0.3), 0px 1px 3px 1px rgba(60, 64, 67, 0.15);\n",
              "      fill: #174EA6;\n",
              "    }\n",
              "\n",
              "    [theme=dark] .colab-df-convert {\n",
              "      background-color: #3B4455;\n",
              "      fill: #D2E3FC;\n",
              "    }\n",
              "\n",
              "    [theme=dark] .colab-df-convert:hover {\n",
              "      background-color: #434B5C;\n",
              "      box-shadow: 0px 1px 3px 1px rgba(0, 0, 0, 0.15);\n",
              "      filter: drop-shadow(0px 1px 2px rgba(0, 0, 0, 0.3));\n",
              "      fill: #FFFFFF;\n",
              "    }\n",
              "  </style>\n",
              "\n",
              "      <script>\n",
              "        const buttonEl =\n",
              "          document.querySelector('#df-1e010fd5-9e98-48a6-ac2f-4475403f6543 button.colab-df-convert');\n",
              "        buttonEl.style.display =\n",
              "          google.colab.kernel.accessAllowed ? 'block' : 'none';\n",
              "\n",
              "        async function convertToInteractive(key) {\n",
              "          const element = document.querySelector('#df-1e010fd5-9e98-48a6-ac2f-4475403f6543');\n",
              "          const dataTable =\n",
              "            await google.colab.kernel.invokeFunction('convertToInteractive',\n",
              "                                                     [key], {});\n",
              "          if (!dataTable) return;\n",
              "\n",
              "          const docLinkHtml = 'Like what you see? Visit the ' +\n",
              "            '<a target=\"_blank\" href=https://colab.research.google.com/notebooks/data_table.ipynb>data table notebook</a>'\n",
              "            + ' to learn more about interactive tables.';\n",
              "          element.innerHTML = '';\n",
              "          dataTable['output_type'] = 'display_data';\n",
              "          await google.colab.output.renderOutput(dataTable, element);\n",
              "          const docLink = document.createElement('div');\n",
              "          docLink.innerHTML = docLinkHtml;\n",
              "          element.appendChild(docLink);\n",
              "        }\n",
              "      </script>\n",
              "    </div>\n",
              "  </div>\n",
              "  "
            ]
          },
          "metadata": {},
          "execution_count": 16
        }
      ],
      "source": [
        "df"
      ]
    },
    {
      "cell_type": "code",
      "execution_count": null,
      "id": "823db5eb",
      "metadata": {
        "id": "823db5eb"
      },
      "outputs": [],
      "source": []
    }
  ],
  "metadata": {
    "kernelspec": {
      "display_name": "Python 3 (ipykernel)",
      "language": "python",
      "name": "python3"
    },
    "language_info": {
      "codemirror_mode": {
        "name": "ipython",
        "version": 3
      },
      "file_extension": ".py",
      "mimetype": "text/x-python",
      "name": "python",
      "nbconvert_exporter": "python",
      "pygments_lexer": "ipython3",
      "version": "3.9.12"
    },
    "colab": {
      "provenance": []
    }
  },
  "nbformat": 4,
  "nbformat_minor": 5
}